{
 "cells": [
  {
   "cell_type": "code",
   "execution_count": 4,
   "id": "64dbe0f7",
   "metadata": {
    "pycharm": {
     "name": "#%%\n"
    }
   },
   "outputs": [],
   "source": [
    "#IMPORTS\n",
    "import numpy as np\n",
    "import pydicom as dicom\n",
    "from pydicom.fileset import FileSet\n",
    "import pathlib\n",
    "from pathlib import Path\n",
    "import os\n",
    "import glob\n",
    "import dicom_csv\n",
    "from dicom_csv import join_tree\n",
    "import csv\n",
    "import pandas as pd\n",
    "\n",
    "\n",
    "#https://medium.com/p/f1623a7f40b8\n",
    "#https://gist.githubusercontent.com/alex-weston-13/4dae048b423f1b4cb9828734a4ec8b83/raw/59e49d168421a667645c9ab231d3993fe0752724/sort_dicoms.py"
   ]
  },
  {
   "cell_type": "code",
   "execution_count": null,
   "id": "06ad6a4b",
   "metadata": {},
   "outputs": [],
   "source": [
    "#WINDOWS: FILE PATH\n",
    "folder = Path('')\n",
    "\n"
   ]
  },
  {
   "cell_type": "code",
   "execution_count": null,
   "id": "cc999ee6",
   "metadata": {
    "pycharm": {
     "name": "#%%\n"
    }
   },
   "outputs": [],
   "source": [
    "#LINUX: IFLPC\n",
    "\n",
    "# dicomfilepath = pathlib.PureWindowsPath('E:\\\\IFL\\\\digibiop\\\\0001211180\\\\DICOMDIR')\n",
    "\n",
    "dicomfilepath_iflpc = pathlib.PurePosixPath('/mnt/projects/DeepProstateDB/Data/14/0001484378/DICOMDIR')\n",
    "ds = dicom.dcmread(dicomfilepath_iflpc)\n",
    "\n",
    "folder = Path('/mnt/projects/DeepProstateDB/Data/14/')"
   ]
  },
  {
   "cell_type": "code",
   "execution_count": 2,
   "id": "6f52ca9e",
   "metadata": {
    "pycharm": {
     "name": "#%%\n"
    }
   },
   "outputs": [
    {
     "name": "stderr",
     "output_type": "stream",
     "text": [
      "0001147395(multiple_times_of_scan)/DICOM/0000B586/AA8F49D2/AAA96832/0000B59C/EEBF2B51: : 23043it [02:34, 107.03it/s]/home/shounak_nandi/miniconda3/lib/python3.9/site-packages/pydicom/valuerep.py:290: UserWarning: The value length (74) exceeds the maximum length of 64 allowed for VR LO.\n",
      "  warnings.warn(msg)\n",
      "@eaDir/.DS_Store@SynoResource: : 96151it [15:13, 105.23it/s]                                                        \n"
     ]
    }
   ],
   "source": [
    "#convert the dicom files into csv\n",
    "\n",
    "meta = join_tree(folder, verbose=2)\n",
    "meta.to_csv('/mnt/HDD1/shounak/test_for_csv/output_test.csv', index= False)"
   ]
  },
  {
   "cell_type": "code",
   "execution_count": 15,
   "id": "730ce72e",
   "metadata": {
    "pycharm": {
     "name": "#%%\n"
    }
   },
   "outputs": [
    {
     "data": {
      "text/plain": [
       "list"
      ]
     },
     "execution_count": 15,
     "metadata": {},
     "output_type": "execute_result"
    }
   ],
   "source": [
    "#assign the output to a variable and convert the type\n",
    "\n",
    "df=meta['PathToFolder'].str.split('/', expand=True)\n",
    "patient_ids=df[0].tolist()\n",
    "type(patient_ids)"
   ]
  },
  {
   "cell_type": "code",
   "execution_count": null,
   "outputs": [],
   "source": [
    "#view the output of the main csv file containing the patient names\n",
    "\n",
    "with open('/home/shounak_nandi/PycharmProjects/ProstateDB/IFL_DigiBiop/digibiop/database_patid_names.csv', newline='') as csvfile:\n",
    "    xyz= csv.reader(csvfile, delimiter=' ', quotechar='|')\n",
    "    for row in xyz:\n",
    "        print(', '.join(row))"
   ],
   "metadata": {
    "collapsed": false,
    "pycharm": {
     "name": "#%%\n"
    }
   }
  },
  {
   "cell_type": "code",
   "execution_count": null,
   "outputs": [],
   "source": [],
   "metadata": {
    "collapsed": false,
    "pycharm": {
     "name": "#%%\n"
    }
   }
  },
  {
   "cell_type": "code",
   "execution_count": null,
   "id": "26d552f9",
   "metadata": {
    "pycharm": {
     "name": "#%%\n"
    }
   },
   "outputs": [],
   "source": []
  }
 ],
 "metadata": {
  "kernelspec": {
   "display_name": "Python 3 (ipykernel)",
   "language": "python",
   "name": "python3"
  },
  "language_info": {
   "codemirror_mode": {
    "name": "ipython",
    "version": 3
   },
   "file_extension": ".py",
   "mimetype": "text/x-python",
   "name": "python",
   "nbconvert_exporter": "python",
   "pygments_lexer": "ipython3",
   "version": "3.9.12"
  }
 },
 "nbformat": 4,
 "nbformat_minor": 5
}