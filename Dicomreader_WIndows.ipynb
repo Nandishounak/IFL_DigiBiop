{
 "cells": [
  {
   "cell_type": "code",
   "execution_count": 14,
   "id": "05b50f1e",
   "metadata": {
    "pycharm": {
     "is_executing": false,
     "name": "#%%\n"
    }
   },
   "outputs": [],
   "source": [
    "#IMPORTS\n",
    "import numpy as np\n",
    "import pydicom as dicom\n",
    "from pydicom.fileset import FileSet\n",
    "import pathlib\n",
    "from pathlib import Path\n",
    "import os\n",
    "import glob\n",
    "import dicom_csv\n",
    "from dicom_csv import join_tree\n",
    "\n",
    "\n",
    "#https://medium.com/p/f1623a7f40b8\n",
    "#https://gist.githubusercontent.com/alex-weston-13/4dae048b423f1b4cb9828734a4ec8b83/raw/59e49d168421a667645c9ab231d3993fe0752724/sort_dicoms.py"
   ]
  },
  {
   "cell_type": "code",
   "execution_count": 22,
   "id": "e101c3d6",
   "metadata": {
    "pycharm": {
     "is_executing": false,
     "name": "#%%\n"
    }
   },
   "outputs": [
    {
     "name": "stderr",
     "output_type": "stream",
     "text": [
      "0002285371/DICOM/0000E740/AA3B79A5/AA66F929/00004F9D/EEDAF3CB: : 29646it [02:57, 165.55it/s]     /home/shounak_nandi/miniconda3/lib/python3.9/site-packages/pydicom/valuerep.py:290: UserWarning: The value length (74) exceeds the maximum length of 64 allowed for VR LO.\n",
      "  warnings.warn(msg)\n",
      "0002263101/DICOM/0000A764/AAAF79A5/AAF720A2/0000A49C/EE7F9933: : 55653it [05:21, 235.71it/s]             /home/shounak_nandi/miniconda3/lib/python3.9/site-packages/pydicom/valuerep.py:290: UserWarning: Invalid value for VR IS: '83.00'. Please see <https://dicom.nema.org/medical/dicom/current/output/html/part05.html#table_6.2-1> for allowed values for each VR.\n",
      "  warnings.warn(msg)\n",
      "0002263101/DICOM/0000A764/AAAF79A5/AAF720A2/0000A3F5/EEFDAF94: : 55654it [05:21, 235.93it/s]/home/shounak_nandi/miniconda3/lib/python3.9/site-packages/pydicom/valuerep.py:290: UserWarning: Invalid value for VR IS: '31.00'. Please see <https://dicom.nema.org/medical/dicom/current/output/html/part05.html#table_6.2-1> for allowed values for each VR.\n",
      "  warnings.warn(msg)\n",
      "0001627329/DICOM/00009E45/AACDBE32/AA697689/0000069C/EEB3D68F: : 206578it [19:50, 224.40it/s]      /home/shounak_nandi/miniconda3/lib/python3.9/site-packages/pydicom/valuerep.py:290: UserWarning: Invalid value for VR IS: '-'. Please see <https://dicom.nema.org/medical/dicom/current/output/html/part05.html#table_6.2-1> for allowed values for each VR.\n",
      "  warnings.warn(msg)\n",
      "0001671952/SECTRA/CONTENT.XML: : 216317it [20:56, 172.11it/s]                                \n"
     ]
    }
   ],
   "source": [
    "# dicomfilepath = pathlib.PureWindowsPath('E:\\\\IFL\\\\digibiop\\\\0001211180\\\\DICOMDIR')\n",
    "dicomfilepath_iflpc = pathlib.PurePosixPath('/mnt/projects/DeepProstateDB/Data/14/0001484378/DICOMDIR')\n",
    "# ds = dicom.dcmread(dicomfilepath)\n",
    "ds = dicom.dcmread(dicomfilepath_iflpc)  #ds stores the path to dicom directory\n",
    "# print(ds)\n",
    "folder = Path('/mnt/projects/DeepProstateDB/Data/15/')\n",
    "meta = join_tree(folder, verbose=2)\n",
    "meta.to_csv('output_test.csv', index= False)"
   ]
  },
  {
   "cell_type": "code",
   "execution_count": 72,
   "id": "bbd80210",
   "metadata": {
    "pycharm": {
     "name": "#%%\n"
    }
   },
   "outputs": [
    {
     "name": "stdout",
     "output_type": "stream",
     "text": [
      "<class 'pydicom.fileset.FileSet'>\n"
     ]
    }
   ],
   "source": [
    "file = FileSet(ds)\n",
    "print(type(file))"
   ]
  },
  {
   "cell_type": "code",
   "execution_count": null,
   "id": "38b814fc",
   "metadata": {
    "pycharm": {
     "name": "#%%\n"
    }
   },
   "outputs": [],
   "source": []
  },
  {
   "cell_type": "code",
   "execution_count": 2,
   "id": "8f3f869d",
   "metadata": {
    "pycharm": {
     "name": "#%%\n"
    }
   },
   "outputs": [
    {
     "name": "stdout",
     "output_type": "stream",
     "text": [
      "reading file list...\n",
      "<class 'str'>\n"
     ]
    }
   ],
   "source": [
    "#for windows\n",
    "# src = \"E:\\\\IFL\\\\digibiop\\\\0001211180\\\\DICOM\\\\0000D122\\\\AA06F95E\\\\AAF40D12\"\n",
    "# dst = \"E:\\\\IFL\\\\digibiop\\\\Copies\"\n",
    "\n",
    "#for linux iflpc\n",
    "src = \"/mnt/projects/DeepProstateDB/Data/16\"\n",
    "dst = \"/mnt/HDD1/shounak/Biopsy_output_year_sorted/16\"\n",
    "print('reading file list...')\n",
    "unsortedList = []\n",
    "paths = sorted(Path(src).iterdir(), key=os.path.getmtime)\n",
    "# print((paths))\n",
    "print (type(src))\n",
    "\n",
    "for i in range(len(paths)):\n",
    "    for root, dirs, files in os.walk(paths[i]):\n",
    "        for file in files: \n",
    "#         if \".file\" in file:# exclude non-dicoms, good for messy folders\n",
    "            unsortedList.append(os.path.join(root, file))\n",
    "# print('%s files found.' % len(unsortedList))\n",
    "# print((unsortedList))"
   ]
  },
  {
   "cell_type": "code",
   "execution_count": null,
   "id": "2c4b28b6",
   "metadata": {
    "pycharm": {
     "name": "#%%\n"
    }
   },
   "outputs": [],
   "source": [
    "testfile = dicom.dcmread('E:\\\\IFL\\\\digibiop\\\\0001211180\\\\DICOM\\\\0000D122\\\\AA06F95E\\\\AAF40D12\\\\0000E2BE\\\\EE0A8535')\n",
    "print(testfile[0x0008, 0x103e])"
   ]
  },
  {
   "cell_type": "code",
   "execution_count": 4,
   "id": "b8a46495",
   "metadata": {
    "pycharm": {
     "name": "#%%\n"
    }
   },
   "outputs": [],
   "source": [
    "#EXCLUDE PUNCTUATIONS\n",
    "\n",
    "def clean_text(string):\n",
    "    # clean and standardize text descriptions, which makes searching files easier\n",
    "    forbidden_symbols = [\"*\", \".\", \",\", \"\\\"\", \"\\\\\", \"/\", \"|\", \"[\", \"]\", \":\", \";\", \" \"]\n",
    "    for symbol in forbidden_symbols:\n",
    "        string = string.replace(symbol, \"_\") # replace everything with an underscore\n",
    "    return string.lower()"
   ]
  },
  {
   "cell_type": "code",
   "execution_count": 10,
   "id": "f5a841c4",
   "metadata": {
    "pycharm": {
     "name": "#%%\n"
    }
   },
   "outputs": [
    {
     "name": "stdout",
     "output_type": "stream",
     "text": [
      "pathsorted <class 'list'> [PosixPath('/mnt/HDD1/shounak/test2/001'), PosixPath('/mnt/HDD1/shounak/test2/002'), PosixPath('/mnt/HDD1/shounak/test2/003'), PosixPath('/mnt/HDD1/shounak/test2/004'), PosixPath('/mnt/HDD1/shounak/test2/005'), PosixPath('/mnt/HDD1/shounak/test2/006'), PosixPath('/mnt/HDD1/shounak/test2/008'), PosixPath('/mnt/HDD1/shounak/test2/016')]\n",
      "/mnt/HDD1/shounak/test2/003\n"
     ]
    },
    {
     "ename": "IsADirectoryError",
     "evalue": "[Errno 21] Is a directory: '/mnt/HDD1/shounak/test2/003'",
     "output_type": "error",
     "traceback": [
      "\u001B[0;31m---------------------------------------------------------------------------\u001B[0m",
      "\u001B[0;31mIsADirectoryError\u001B[0m                         Traceback (most recent call last)",
      "Input \u001B[0;32mIn [10]\u001B[0m, in \u001B[0;36m<cell line: 24>\u001B[0;34m()\u001B[0m\n\u001B[1;32m     22\u001B[0m \u001B[38;5;28mprint\u001B[39m(\u001B[38;5;124m'\u001B[39m\u001B[38;5;124mpathsorted\u001B[39m\u001B[38;5;124m'\u001B[39m, \u001B[38;5;28mtype\u001B[39m(paths), paths)\n\u001B[1;32m     23\u001B[0m \u001B[38;5;28mprint\u001B[39m(paths[\u001B[38;5;241m2\u001B[39m])\n\u001B[0;32m---> 24\u001B[0m \u001B[43mnp\u001B[49m\u001B[38;5;241;43m.\u001B[39;49m\u001B[43mloadtxt\u001B[49m\u001B[43m(\u001B[49m\u001B[43mpaths\u001B[49m\u001B[43m[\u001B[49m\u001B[38;5;241;43m2\u001B[39;49m\u001B[43m]\u001B[49m\u001B[43m)\u001B[49m\n\u001B[1;32m     26\u001B[0m \u001B[38;5;28;01mfor\u001B[39;00m i \u001B[38;5;129;01min\u001B[39;00m \u001B[38;5;28mrange\u001B[39m(\u001B[38;5;28mlen\u001B[39m(paths)):\n\u001B[1;32m     27\u001B[0m     \u001B[38;5;28mprint\u001B[39m(\u001B[38;5;124m'\u001B[39m\u001B[38;5;124mi am here\u001B[39m\u001B[38;5;124m'\u001B[39m)\n",
      "File \u001B[0;32m~/miniconda3/lib/python3.9/site-packages/numpy/lib/npyio.py:1042\u001B[0m, in \u001B[0;36mloadtxt\u001B[0;34m(fname, dtype, comments, delimiter, converters, skiprows, usecols, unpack, ndmin, encoding, max_rows, like)\u001B[0m\n\u001B[1;32m   1040\u001B[0m     fname \u001B[38;5;241m=\u001B[39m os_fspath(fname)\n\u001B[1;32m   1041\u001B[0m \u001B[38;5;28;01mif\u001B[39;00m _is_string_like(fname):\n\u001B[0;32m-> 1042\u001B[0m     fh \u001B[38;5;241m=\u001B[39m \u001B[43mnp\u001B[49m\u001B[38;5;241;43m.\u001B[39;49m\u001B[43mlib\u001B[49m\u001B[38;5;241;43m.\u001B[39;49m\u001B[43m_datasource\u001B[49m\u001B[38;5;241;43m.\u001B[39;49m\u001B[43mopen\u001B[49m\u001B[43m(\u001B[49m\u001B[43mfname\u001B[49m\u001B[43m,\u001B[49m\u001B[43m \u001B[49m\u001B[38;5;124;43m'\u001B[39;49m\u001B[38;5;124;43mrt\u001B[39;49m\u001B[38;5;124;43m'\u001B[39;49m\u001B[43m,\u001B[49m\u001B[43m \u001B[49m\u001B[43mencoding\u001B[49m\u001B[38;5;241;43m=\u001B[39;49m\u001B[43mencoding\u001B[49m\u001B[43m)\u001B[49m\n\u001B[1;32m   1043\u001B[0m     fencoding \u001B[38;5;241m=\u001B[39m \u001B[38;5;28mgetattr\u001B[39m(fh, \u001B[38;5;124m'\u001B[39m\u001B[38;5;124mencoding\u001B[39m\u001B[38;5;124m'\u001B[39m, \u001B[38;5;124m'\u001B[39m\u001B[38;5;124mlatin1\u001B[39m\u001B[38;5;124m'\u001B[39m)\n\u001B[1;32m   1044\u001B[0m     line_iter \u001B[38;5;241m=\u001B[39m \u001B[38;5;28miter\u001B[39m(fh)\n",
      "File \u001B[0;32m~/miniconda3/lib/python3.9/site-packages/numpy/lib/_datasource.py:193\u001B[0m, in \u001B[0;36mopen\u001B[0;34m(path, mode, destpath, encoding, newline)\u001B[0m\n\u001B[1;32m    156\u001B[0m \u001B[38;5;124;03m\"\"\"\u001B[39;00m\n\u001B[1;32m    157\u001B[0m \u001B[38;5;124;03mOpen `path` with `mode` and return the file object.\u001B[39;00m\n\u001B[1;32m    158\u001B[0m \n\u001B[0;32m   (...)\u001B[0m\n\u001B[1;32m    189\u001B[0m \n\u001B[1;32m    190\u001B[0m \u001B[38;5;124;03m\"\"\"\u001B[39;00m\n\u001B[1;32m    192\u001B[0m ds \u001B[38;5;241m=\u001B[39m DataSource(destpath)\n\u001B[0;32m--> 193\u001B[0m \u001B[38;5;28;01mreturn\u001B[39;00m \u001B[43mds\u001B[49m\u001B[38;5;241;43m.\u001B[39;49m\u001B[43mopen\u001B[49m\u001B[43m(\u001B[49m\u001B[43mpath\u001B[49m\u001B[43m,\u001B[49m\u001B[43m \u001B[49m\u001B[43mmode\u001B[49m\u001B[43m,\u001B[49m\u001B[43m \u001B[49m\u001B[43mencoding\u001B[49m\u001B[38;5;241;43m=\u001B[39;49m\u001B[43mencoding\u001B[49m\u001B[43m,\u001B[49m\u001B[43m \u001B[49m\u001B[43mnewline\u001B[49m\u001B[38;5;241;43m=\u001B[39;49m\u001B[43mnewline\u001B[49m\u001B[43m)\u001B[49m\n",
      "File \u001B[0;32m~/miniconda3/lib/python3.9/site-packages/numpy/lib/_datasource.py:529\u001B[0m, in \u001B[0;36mDataSource.open\u001B[0;34m(self, path, mode, encoding, newline)\u001B[0m\n\u001B[1;32m    527\u001B[0m     \u001B[38;5;28;01mif\u001B[39;00m ext \u001B[38;5;241m==\u001B[39m \u001B[38;5;124m'\u001B[39m\u001B[38;5;124mbz2\u001B[39m\u001B[38;5;124m'\u001B[39m:\n\u001B[1;32m    528\u001B[0m         mode\u001B[38;5;241m.\u001B[39mreplace(\u001B[38;5;124m\"\u001B[39m\u001B[38;5;124m+\u001B[39m\u001B[38;5;124m\"\u001B[39m, \u001B[38;5;124m\"\u001B[39m\u001B[38;5;124m\"\u001B[39m)\n\u001B[0;32m--> 529\u001B[0m     \u001B[38;5;28;01mreturn\u001B[39;00m \u001B[43m_file_openers\u001B[49m\u001B[43m[\u001B[49m\u001B[43mext\u001B[49m\u001B[43m]\u001B[49m\u001B[43m(\u001B[49m\u001B[43mfound\u001B[49m\u001B[43m,\u001B[49m\u001B[43m \u001B[49m\u001B[43mmode\u001B[49m\u001B[38;5;241;43m=\u001B[39;49m\u001B[43mmode\u001B[49m\u001B[43m,\u001B[49m\n\u001B[1;32m    530\u001B[0m \u001B[43m                              \u001B[49m\u001B[43mencoding\u001B[49m\u001B[38;5;241;43m=\u001B[39;49m\u001B[43mencoding\u001B[49m\u001B[43m,\u001B[49m\u001B[43m \u001B[49m\u001B[43mnewline\u001B[49m\u001B[38;5;241;43m=\u001B[39;49m\u001B[43mnewline\u001B[49m\u001B[43m)\u001B[49m\n\u001B[1;32m    531\u001B[0m \u001B[38;5;28;01melse\u001B[39;00m:\n\u001B[1;32m    532\u001B[0m     \u001B[38;5;28;01mraise\u001B[39;00m \u001B[38;5;167;01mFileNotFoundError\u001B[39;00m(\u001B[38;5;124mf\u001B[39m\u001B[38;5;124m\"\u001B[39m\u001B[38;5;132;01m{\u001B[39;00mpath\u001B[38;5;132;01m}\u001B[39;00m\u001B[38;5;124m not found.\u001B[39m\u001B[38;5;124m\"\u001B[39m)\n",
      "\u001B[0;31mIsADirectoryError\u001B[0m: [Errno 21] Is a directory: '/mnt/HDD1/shounak/test2/003'"
     ]
    }
   ],
   "source": [
    "# for root, dirs, files in os.walk(src, topdown=True):\n",
    "#     targetfolder = root\n",
    "#     print (targetfolder)\n",
    "# folder = '/mnt/HDD1/shounak/test2/'\n",
    "# sortedlist=[]\n",
    "folder= \"/home/camp/Downloads/shounak/IFL_DigiBiop/digibiop/test_folder/14/abc/mod/type1/\"\n",
    "sub_folders = [name for name in os.listdir(folder) if os.path.isdir(os.path.join(folder, name))]\n",
    "\n",
    "print(\"subfolders\",sub_folders)\n",
    "print(type(sub_folders))\n",
    "\n",
    "# # for i in range(len(unsortedList)):\n",
    "# #     print(i)\n",
    "# # print(len(unsortedList))\n",
    "\n",
    "# for names in sorted(glob.glob(sub_folders)):\n",
    "#     sortedlist.append(names)\n",
    "# print(sortedlist)\n",
    "\n",
    "\n",
    "emptylist=[]\n",
    "paths = sorted(Path(folder).iterdir())\n",
    "print('pathsorted', type(paths), paths)\n",
    "print(paths[2])\n",
    "np.loadtxt(paths[2])\n",
    "\n",
    "for i in range(len(paths)):\n",
    "    print('i am here')\n",
    "    for root, dirs, files in os.walk(paths[i]):\n",
    "        emptylist.append(os.path.join(root, file))\n",
    "#         print('trying to print in between',(emptylist))\n",
    "        for file in files: \n",
    "#         if \".file\" in file:# exclude non-dicoms, good for messy folders\n",
    "            emptylist.append(os.path.join(root, file))\n",
    "            print('trying to print something')\n",
    "# print('%s files found.' % len(unsortedList))\n",
    "print('finally i am here',(emptylist))\n",
    "\n",
    "# # sorted_sub_folders = [name for name in os.listdir(folder) if os.path.isdir(os.path.join(folder, name))]\n",
    "# print(sorted_sub_folders)\n",
    "print(type(sub_folders))"
   ]
  },
  {
   "cell_type": "code",
   "execution_count": 46,
   "id": "eecaea3d",
   "metadata": {
    "pycharm": {
     "name": "#%%\n"
    }
   },
   "outputs": [
    {
     "ename": "IsADirectoryError",
     "evalue": "[Errno 21] Is a directory: '/mnt/projects/DeepProstateDB/Data/16/0001618163'",
     "output_type": "error",
     "traceback": [
      "\u001B[0;31m---------------------------------------------------------------------------\u001B[0m",
      "\u001B[0;31mIsADirectoryError\u001B[0m                         Traceback (most recent call last)",
      "Input \u001B[0;32mIn [46]\u001B[0m, in \u001B[0;36m<cell line: 1>\u001B[0;34m()\u001B[0m\n\u001B[1;32m      1\u001B[0m \u001B[38;5;28;01mfor\u001B[39;00m dicom_loc \u001B[38;5;129;01min\u001B[39;00m paths:\n\u001B[1;32m      2\u001B[0m     \u001B[38;5;66;03m# read the file\u001B[39;00m\n\u001B[0;32m----> 3\u001B[0m         ds \u001B[38;5;241m=\u001B[39m \u001B[43mdicom\u001B[49m\u001B[38;5;241;43m.\u001B[39;49m\u001B[43mread_file\u001B[49m\u001B[43m(\u001B[49m\u001B[43mdicom_loc\u001B[49m\u001B[43m,\u001B[49m\u001B[43m \u001B[49m\u001B[43mforce\u001B[49m\u001B[38;5;241;43m=\u001B[39;49m\u001B[38;5;28;43;01mTrue\u001B[39;49;00m\u001B[43m)\u001B[49m\n\u001B[1;32m      4\u001B[0m         \u001B[38;5;28mprint\u001B[39m(\u001B[38;5;124m'\u001B[39m\u001B[38;5;124mds\u001B[39m\u001B[38;5;124m'\u001B[39m,(ds))\n\u001B[1;32m      5\u001B[0m \u001B[38;5;66;03m#         print('unsorted list', unsortedList)\u001B[39;00m\n\u001B[1;32m      6\u001B[0m     \u001B[38;5;66;03m# get patient, study, and series information\u001B[39;00m\n",
      "File \u001B[0;32m~/miniconda3/lib/python3.9/site-packages/pydicom/filereader.py:993\u001B[0m, in \u001B[0;36mdcmread\u001B[0;34m(fp, defer_size, stop_before_pixels, force, specific_tags)\u001B[0m\n\u001B[1;32m    991\u001B[0m     caller_owns_file \u001B[38;5;241m=\u001B[39m \u001B[38;5;28;01mFalse\u001B[39;00m\n\u001B[1;32m    992\u001B[0m     logger\u001B[38;5;241m.\u001B[39mdebug(\u001B[38;5;124m\"\u001B[39m\u001B[38;5;124mReading file \u001B[39m\u001B[38;5;124m'\u001B[39m\u001B[38;5;132;01m{0}\u001B[39;00m\u001B[38;5;124m'\u001B[39m\u001B[38;5;124m\"\u001B[39m\u001B[38;5;241m.\u001B[39mformat(fp))\n\u001B[0;32m--> 993\u001B[0m     fp \u001B[38;5;241m=\u001B[39m \u001B[38;5;28;43mopen\u001B[39;49m\u001B[43m(\u001B[49m\u001B[43mfp\u001B[49m\u001B[43m,\u001B[49m\u001B[43m \u001B[49m\u001B[38;5;124;43m'\u001B[39;49m\u001B[38;5;124;43mrb\u001B[39;49m\u001B[38;5;124;43m'\u001B[39;49m\u001B[43m)\u001B[49m\n\u001B[1;32m    994\u001B[0m \u001B[38;5;28;01melif\u001B[39;00m fp \u001B[38;5;129;01mis\u001B[39;00m \u001B[38;5;28;01mNone\u001B[39;00m \u001B[38;5;129;01mor\u001B[39;00m \u001B[38;5;129;01mnot\u001B[39;00m \u001B[38;5;28mhasattr\u001B[39m(fp, \u001B[38;5;124m\"\u001B[39m\u001B[38;5;124mread\u001B[39m\u001B[38;5;124m\"\u001B[39m) \u001B[38;5;129;01mor\u001B[39;00m \u001B[38;5;129;01mnot\u001B[39;00m \u001B[38;5;28mhasattr\u001B[39m(fp, \u001B[38;5;124m\"\u001B[39m\u001B[38;5;124mseek\u001B[39m\u001B[38;5;124m\"\u001B[39m):\n\u001B[1;32m    995\u001B[0m     \u001B[38;5;28;01mraise\u001B[39;00m \u001B[38;5;167;01mTypeError\u001B[39;00m(\u001B[38;5;124m\"\u001B[39m\u001B[38;5;124mdcmread: Expected a file path or a file-like, \u001B[39m\u001B[38;5;124m\"\u001B[39m\n\u001B[1;32m    996\u001B[0m                     \u001B[38;5;124m\"\u001B[39m\u001B[38;5;124mbut got \u001B[39m\u001B[38;5;124m\"\u001B[39m \u001B[38;5;241m+\u001B[39m \u001B[38;5;28mtype\u001B[39m(fp)\u001B[38;5;241m.\u001B[39m\u001B[38;5;18m__name__\u001B[39m)\n",
      "\u001B[0;31mIsADirectoryError\u001B[0m: [Errno 21] Is a directory: '/mnt/projects/DeepProstateDB/Data/16/0001618163'"
     ]
    }
   ],
   "source": [
    "for dicom_loc in paths:\n",
    "    # read the file\n",
    "        ds = dicom.read_file(dicom_loc, force=True)\n",
    "        print('ds',(ds))\n",
    "#         print('unsorted list', unsortedList)\n",
    "    # get patient, study, and series information\n",
    "        print('reading data from folder', )\n",
    "        patientID = clean_text(ds.get(\"PatientID\", \"NA\"))\n",
    "        studyDate = clean_text(ds.get(\"StudyDate\", \"NA\"))\n",
    "        studyDescription = clean_text(ds.get(\"StudyDescription\", \"NA\"))\n",
    "        seriesDescription = clean_text(ds.get(\"SeriesDescription\", \"NA\"))\n",
    "#         for i in enumerate(ds):\n",
    "#             pacsid = sub_folders[i]\n",
    "#         print('inside loop',pacsid)\n",
    "# print('outside loop', pacsid)\n",
    "    \n",
    "#     print(type(ds[0x0008, 0x103e])) #<class 'pydicom.dataelem.DataElement'>\n",
    "#     # generate new, standardized file name\n",
    "#     modality = ds.get(\"Modality\",\"NA\")\n",
    "#     studyInstanceUID = ds.get(\"StudyInstanceUID\",\"NA\")\n",
    "#     seriesInstanceUID = ds.get(\"SeriesInstanceUID\",\"NA\")\n",
    "#     instanceNumber = str(ds.get(\"InstanceNumber\",\"0\"))\n",
    "#     fileName = modality + \".\" + seriesInstanceUID + \".\" + instanceNumber + \".dcm\"\n",
    "# #     fileName = modality + \".\" + seriesInstanceUID + \".\" + instanceNumber\n",
    "\n",
    "#     # save files to a 4-tier nested folder structure\n",
    "#     if not os.path.exists(os.path.join(dst, patientID)):\n",
    "#             os.makedirs(os.path.join(dst, patientID))\n",
    "#     if not os.path.exists(os.path.join(dst, patientID, studyDate)):\n",
    "#             os.makedirs(os.path.join(dst, patientID, studyDate))\n",
    "#     if not os.path.exists(os.path.join(dst, patientID, studyDate, studyDescription)):\n",
    "#             os.makedirs(os.path.join(dst, patientID, studyDate, studyDescription))\n",
    "#     if not os.path.exists(os.path.join(dst, patientID, studyDate, studyDescription, seriesDescription)):\n",
    "#             os.makedirs(os.path.join(dst, patientID, studyDate, studyDescription, seriesDescription))\n",
    "#             print('Saving out file: %s - %s - %s - %s.' % (patientID, studyDate, studyDescription, seriesDescription ))\n",
    "#     ds.save_as(os.path.join(dst, patientID, studyDate, studyDescription, seriesDescription, fileName))\n",
    "\n",
    "# print('done.')\n",
    "    "
   ]
  },
  {
   "cell_type": "code",
   "execution_count": null,
   "id": "f42b5cfc",
   "metadata": {
    "pycharm": {
     "name": "#%%\n"
    }
   },
   "outputs": [],
   "source": []
  },
  {
   "cell_type": "code",
   "execution_count": 76,
   "id": "5d9613ca",
   "metadata": {
    "pycharm": {
     "name": "#%%\n"
    }
   },
   "outputs": [
    {
     "name": "stdout",
     "output_type": "stream",
     "text": [
      "Dataset.file_meta -------------------------------\n",
      "(0002, 0000) File Meta Information Group Length  UL: 198\n",
      "(0002, 0001) File Meta Information Version       OB: b'\\x00\\x01'\n",
      "(0002, 0002) Media Storage SOP Class UID         UI: MR Image Storage\n",
      "(0002, 0003) Media Storage SOP Instance UID      UI: 1.3.12.2.1107.5.2.38.51004.2014092410523236839212252\n",
      "(0002, 0010) Transfer Syntax UID                 UI: Explicit VR Little Endian\n",
      "(0002, 0012) Implementation Class UID            UI: 1.2.840.113654.2.3.1995.2.12.0\n",
      "(0002, 0013) Implementation Version Name         SH: 'MIRCTN16NOV2000'\n",
      "-------------------------------------------------\n",
      "(0008, 0005) Specific Character Set              CS: 'ISO_IR 100'\n",
      "(0008, 0008) Image Type                          CS: ['ORIGINAL', 'PRIMARY', 'M', 'ND', 'NORM']\n",
      "(0008, 0012) Instance Creation Date              DA: '20140924'\n",
      "(0008, 0013) Instance Creation Time              TM: '105233.140000'\n",
      "(0008, 0016) SOP Class UID                       UI: MR Image Storage\n",
      "(0008, 0018) SOP Instance UID                    UI: 1.3.12.2.1107.5.2.38.51004.2014092410523236839212252\n",
      "(0008, 0020) Study Date                          DA: '20140924'\n",
      "(0008, 0021) Series Date                         DA: '20140924'\n",
      "(0008, 0022) Acquisition Date                    DA: '20140924'\n",
      "(0008, 0023) Content Date                        DA: '20140924'\n",
      "(0008, 0030) Study Time                          TM: '100445.000000'\n",
      "(0008, 0031) Series Time                         TM: '105233.000000'\n",
      "(0008, 0032) Acquisition Time                    TM: '104424.190000'\n",
      "(0008, 0033) Content Time                        TM: '105233.140000'\n",
      "(0008, 0050) Accession Number                    SH: 'RK5N8QE1JQ'\n",
      "(0008, 0060) Modality                            CS: 'MR'\n",
      "(0008, 0070) Manufacturer                        LO: 'SIEMENS'\n",
      "(0008, 1030) Study Description                   LO: 'MRT Becken nativ und mit KM'\n",
      "(0008, 1032)  Procedure Code Sequence  2 item(s) ---- \n",
      "   (0008, 0100) Code Value                          SH: '5273'\n",
      "   (0008, 0102) Coding Scheme Designator            SH: '99GAP'\n",
      "   (0008, 0104) Code Meaning                        LO: 'PET / MRT Onkologie Teilkörper / Ganzkörper'\n",
      "   ---------\n",
      "   (0008, 0100) Code Value                          SH: '5273'\n",
      "   (0008, 0102) Coding Scheme Designator            SH: '99GAP'\n",
      "   (0008, 0104) Code Meaning                        LO: 'PET / MRT Onkologie Teilkörper / Ganzkörper'\n",
      "   ---------\n",
      "(0008, 103e) Series Description                  LO: 'Pelvis_t2_spc_rst_tra_p2_iso'\n",
      "(0008, 1040) Institutional Department Name       LO: 'Department'\n",
      "(0008, 1050) Performing Physician's Name         PN: ''\n",
      "(0008, 1090) Manufacturer's Model Name           LO: 'Biograph_mMR'\n",
      "(0008, 1140)  Referenced Image Sequence  3 item(s) ---- \n",
      "   (0008, 1150) Referenced SOP Class UID            UI: MR Image Storage\n",
      "   (0008, 1155) Referenced SOP Instance UID         UI: 1.3.12.2.1107.5.2.38.51004.201409241041313085605601\n",
      "   ---------\n",
      "   (0008, 1150) Referenced SOP Class UID            UI: MR Image Storage\n",
      "   (0008, 1155) Referenced SOP Instance UID         UI: 1.3.12.2.1107.5.2.38.51004.2014092410412953120105597\n",
      "   ---------\n",
      "   (0008, 1150) Referenced SOP Class UID            UI: MR Image Storage\n",
      "   (0008, 1155) Referenced SOP Instance UID         UI: 1.3.12.2.1107.5.2.38.51004.2014092410413253058405605\n",
      "   ---------\n",
      "(0010, 0010) Patient's Name                      PN: 'Anonymous'\n",
      "(0010, 0020) Patient ID                          LO: 'ANONK5N8QE1BR'\n",
      "(0010, 0021) Issuer of Patient ID                LO: 'anonymous'\n",
      "(0010, 1010) Patient's Age                       AS: '067Y'\n",
      "(0010, 1020) Patient's Size                      DS: '1.7'\n",
      "(0010, 1030) Patient's Weight                    DS: '75.0'\n",
      "(0018, 0015) Body Part Examined                  CS: 'ABDOMEN'\n",
      "(0018, 0020) Scanning Sequence                   CS: 'SE'\n",
      "(0018, 0021) Sequence Variant                    CS: ['SK', 'SP', 'OSP']\n",
      "(0018, 0022) Scan Options                        CS: 'PFP'\n",
      "(0018, 0023) MR Acquisition Type                 CS: '3D'\n",
      "(0018, 0024) Sequence Name                       SH: '*spcR3d1_89'\n",
      "(0018, 0025) Angio Flag                          CS: 'N'\n",
      "(0018, 0050) Slice Thickness                     DS: '1.0'\n",
      "(0018, 0080) Repetition Time                     DS: '1730.0'\n",
      "(0018, 0081) Echo Time                           DS: '102.0'\n",
      "(0018, 0083) Number of Averages                  DS: '2.0'\n",
      "(0018, 0084) Imaging Frequency                   DS: '123.190723'\n",
      "(0018, 0085) Imaged Nucleus                      SH: '1H'\n",
      "(0018, 0086) Echo Number(s)                      IS: '1'\n",
      "(0018, 0087) Magnetic Field Strength             DS: '3.0'\n",
      "(0018, 0089) Number of Phase Encoding Steps      IS: '366'\n",
      "(0018, 0091) Echo Train Length                   IS: '89'\n",
      "(0018, 0093) Percent Sampling                    DS: '91.0714'\n",
      "(0018, 0094) Percent Phase Field of View         DS: '100.0'\n",
      "(0018, 0095) Pixel Bandwidth                     DS: '601.0'\n",
      "(0018, 1000) Device Serial Number                LO: '51004'\n",
      "(0018, 1020) Software Versions                   LO: 'syngo MR B18P'\n",
      "(0018, 1030) Protocol Name                       LO: 'Pelvis_t2_spc_rst_tra_p2_iso'\n",
      "(0018, 1251) Transmit Coil Name                  SH: 'Body'\n",
      "(0018, 1310) Acquisition Matrix                  US: [0, 320, 291, 0]\n",
      "(0018, 1312) In-plane Phase Encoding Direction   CS: 'ROW'\n",
      "(0018, 1314) Flip Angle                          DS: '135.0'\n",
      "(0018, 1315) Variable Flip Angle Flag            CS: 'N'\n",
      "(0018, 1316) SAR                                 DS: '1.8955309031527'\n",
      "(0018, 1318) dB/dt                               DS: '0.0'\n",
      "(0018, 5100) Patient Position                    CS: 'FFS'\n",
      "(0020, 000d) Study Instance UID                  UI: 1.2.276.0.38.1.1.1.7712.20140924100219.18272135\n",
      "(0020, 000e) Series Instance UID                 UI: 1.3.12.2.1107.5.2.38.51004.2014092410442296352211977.0.0.0\n",
      "(0020, 0010) Study ID                            SH: 'EK5N8QE1HQ'\n",
      "(0020, 0011) Series Number                       IS: '8'\n",
      "(0020, 0012) Acquisition Number                  IS: '1'\n",
      "(0020, 0013) Instance Number                     IS: '7'\n",
      "(0020, 0032) Image Position (Patient)            DS: [-113.84337356065, -114.99999998258, -1.7289161682129]\n",
      "(0020, 0037) Image Orientation (Patient)         DS: [1, -2.051034e-010, 0, 2.051034e-010, 1, 0]\n",
      "(0020, 0052) Frame of Reference UID              UI: 1.3.12.2.1107.5.2.38.51004.1.20140924104043546.0.0.0\n",
      "(0020, 1040) Position Reference Indicator        LO: ''\n",
      "(0020, 1041) Slice Location                      DS: '-1.7289161682129'\n",
      "(0028, 0002) Samples per Pixel                   US: 1\n",
      "(0028, 0004) Photometric Interpretation          CS: 'MONOCHROME2'\n",
      "(0028, 0010) Rows                                US: 320\n",
      "(0028, 0011) Columns                             US: 320\n",
      "(0028, 0030) Pixel Spacing                       DS: [0.71875, 0.71875]\n",
      "(0028, 0100) Bits Allocated                      US: 16\n",
      "(0028, 0101) Bits Stored                         US: 12\n",
      "(0028, 0102) High Bit                            US: 11\n",
      "(0028, 0103) Pixel Representation                US: 0\n",
      "(0028, 0106) Smallest Image Pixel Value          US: 0\n",
      "(0028, 0107) Largest Image Pixel Value           US: 1307\n",
      "(0028, 1050) Window Center                       DS: '492.0'\n",
      "(0028, 1051) Window Width                        DS: '1050.0'\n",
      "(0028, 1055) Window Center & Width Explanation   LO: 'Algo1'\n",
      "(0029, 0010) Private Creator                     LO: 'SIEMENS CSA HEADER'\n",
      "(0029, 0011) Private Creator                     LO: 'SIEMENS MEDCOM HEADER2'\n",
      "(0032, 1060) Requested Procedure Description     LO: 'PET / MRT Onkologie Teilkörper / Ganzkörper'\n",
      "(0032, 1064)  Requested Procedure Code Sequence  1 item(s) ---- \n",
      "   (0008, 0100) Code Value                          SH: '5273'\n",
      "   (0008, 0102) Coding Scheme Designator            SH: '99GAP'\n",
      "   (0008, 0104) Code Meaning                        LO: 'PET / MRT Onkologie Teilkörper / Ganzkörper'\n",
      "   ---------\n",
      "(0040, 0244) Performed Procedure Step Start Date DA: '20140924'\n",
      "(0040, 0245) Performed Procedure Step Start Time TM: '104043.484000'\n",
      "(0040, 0253) Performed Procedure Step ID         SH: '0018272135'\n",
      "(0040, 0254) Performed Procedure Step Descriptio LO: ''\n",
      "(0040, 0275)  Request Attributes Sequence  1 item(s) ---- \n",
      "   (0040, 0007) Scheduled Procedure Step Descriptio LO: 'PET / MRT Onkologie Teilkörper / Ganzkörper'\n",
      "   (0040, 0008)  Scheduled Protocol Code Sequence  1 item(s) ---- \n",
      "      (0008, 0100) Code Value                          SH: '5273'\n",
      "      (0008, 0102) Coding Scheme Designator            SH: '99GAP'\n",
      "      (0008, 0104) Code Meaning                        LO: 'PET / MRT Onkologie Teilkörper / Ganzkörper'\n",
      "      ---------\n",
      "   (0040, 0009) Scheduled Procedure Step ID         SH: '0018272135'\n",
      "   (0040, 1001) Requested Procedure ID              SH: '0018272135'\n",
      "   ---------\n",
      "(7fe0, 0010) Pixel Data                          OW: Array of 204800 elements\n"
     ]
    }
   ],
   "source": [
    "\n",
    "\n",
    "testfile1 = dicom.dcmread('E:\\\\IFL\\\\digibiop\\\\Copies\\\\anonk5n8qe1br\\\\20140924\\\\mrt_becken_nativ_und_mit_km\\\\pelvis_t2_spc_rst_tra_p2_iso\\\\MR.1.3.12.2.1107.5.2.38.51004.2014092410442296352211977.0.0.0.7.dcm')\n",
    "print(testfile1)"
   ]
  },
  {
   "cell_type": "code",
   "execution_count": 7,
   "id": "c6d5e328",
   "metadata": {
    "pycharm": {
     "name": "#%%\n"
    }
   },
   "outputs": [
    {
     "ename": "KeyboardInterrupt",
     "evalue": "",
     "output_type": "error",
     "traceback": [
      "\u001B[0;31m---------------------------------------------------------------------------\u001B[0m",
      "\u001B[0;31mKeyboardInterrupt\u001B[0m                         Traceback (most recent call last)",
      "Input \u001B[0;32mIn [7]\u001B[0m, in \u001B[0;36m<cell line: 4>\u001B[0;34m()\u001B[0m\n\u001B[1;32m      7\u001B[0m         filecount\u001B[38;5;241m.\u001B[39mappend(os\u001B[38;5;241m.\u001B[39mpath\u001B[38;5;241m.\u001B[39mjoin(root, file))\n\u001B[1;32m      8\u001B[0m         \u001B[38;5;28;01mfor\u001B[39;00m dicom_loc \u001B[38;5;129;01min\u001B[39;00m filecount:\n\u001B[1;32m      9\u001B[0m \u001B[38;5;66;03m# read the file\u001B[39;00m\n\u001B[0;32m---> 10\u001B[0m             ds1 \u001B[38;5;241m=\u001B[39m \u001B[43mdicom\u001B[49m\u001B[38;5;241;43m.\u001B[39;49m\u001B[43mread_file\u001B[49m\u001B[43m(\u001B[49m\u001B[43mdicom_loc\u001B[49m\u001B[43m,\u001B[49m\u001B[43m \u001B[49m\u001B[43mforce\u001B[49m\u001B[38;5;241;43m=\u001B[39;49m\u001B[38;5;28;43;01mTrue\u001B[39;49;00m\u001B[43m)\u001B[49m\n\u001B[1;32m     12\u001B[0m \u001B[38;5;66;03m# get patient, study, and series information\u001B[39;00m\n\u001B[1;32m     13\u001B[0m             modalitycount \u001B[38;5;241m=\u001B[39m ds1\u001B[38;5;241m.\u001B[39mget(\u001B[38;5;124m\"\u001B[39m\u001B[38;5;124mModality\u001B[39m\u001B[38;5;124m\"\u001B[39m,\u001B[38;5;124m\"\u001B[39m\u001B[38;5;124mNA\u001B[39m\u001B[38;5;124m\"\u001B[39m)\n",
      "File \u001B[0;32m~/miniconda3/lib/python3.9/site-packages/pydicom/filereader.py:1021\u001B[0m, in \u001B[0;36mdcmread\u001B[0;34m(fp, defer_size, stop_before_pixels, force, specific_tags)\u001B[0m\n\u001B[1;32m   1019\u001B[0m     stop_when \u001B[38;5;241m=\u001B[39m _at_pixel_data\n\u001B[1;32m   1020\u001B[0m \u001B[38;5;28;01mtry\u001B[39;00m:\n\u001B[0;32m-> 1021\u001B[0m     dataset \u001B[38;5;241m=\u001B[39m \u001B[43mread_partial\u001B[49m\u001B[43m(\u001B[49m\n\u001B[1;32m   1022\u001B[0m \u001B[43m        \u001B[49m\u001B[43mfp\u001B[49m\u001B[43m,\u001B[49m\n\u001B[1;32m   1023\u001B[0m \u001B[43m        \u001B[49m\u001B[43mstop_when\u001B[49m\u001B[43m,\u001B[49m\n\u001B[1;32m   1024\u001B[0m \u001B[43m        \u001B[49m\u001B[43mdefer_size\u001B[49m\u001B[38;5;241;43m=\u001B[39;49m\u001B[43msize_in_bytes\u001B[49m\u001B[43m(\u001B[49m\u001B[43mdefer_size\u001B[49m\u001B[43m)\u001B[49m\u001B[43m,\u001B[49m\n\u001B[1;32m   1025\u001B[0m \u001B[43m        \u001B[49m\u001B[43mforce\u001B[49m\u001B[38;5;241;43m=\u001B[39;49m\u001B[43mforce\u001B[49m\u001B[43m,\u001B[49m\n\u001B[1;32m   1026\u001B[0m \u001B[43m        \u001B[49m\u001B[43mspecific_tags\u001B[49m\u001B[38;5;241;43m=\u001B[39;49m\u001B[43mspecific_tags\u001B[49m\u001B[43m,\u001B[49m\n\u001B[1;32m   1027\u001B[0m \u001B[43m    \u001B[49m\u001B[43m)\u001B[49m\n\u001B[1;32m   1028\u001B[0m \u001B[38;5;28;01mfinally\u001B[39;00m:\n\u001B[1;32m   1029\u001B[0m     \u001B[38;5;28;01mif\u001B[39;00m \u001B[38;5;129;01mnot\u001B[39;00m caller_owns_file:\n",
      "File \u001B[0;32m~/miniconda3/lib/python3.9/site-packages/pydicom/filereader.py:852\u001B[0m, in \u001B[0;36mread_partial\u001B[0;34m(fileobj, stop_when, defer_size, force, specific_tags)\u001B[0m\n\u001B[1;32m    848\u001B[0m \u001B[38;5;66;03m# Try and decode the dataset\u001B[39;00m\n\u001B[1;32m    849\u001B[0m \u001B[38;5;66;03m#   By this point we should be at the start of the dataset and have\u001B[39;00m\n\u001B[1;32m    850\u001B[0m \u001B[38;5;66;03m#   the transfer syntax (whether read from the file meta or guessed at)\u001B[39;00m\n\u001B[1;32m    851\u001B[0m \u001B[38;5;28;01mtry\u001B[39;00m:\n\u001B[0;32m--> 852\u001B[0m     dataset \u001B[38;5;241m=\u001B[39m \u001B[43mread_dataset\u001B[49m\u001B[43m(\u001B[49m\n\u001B[1;32m    853\u001B[0m \u001B[43m        \u001B[49m\u001B[43mfileobj\u001B[49m\u001B[43m,\u001B[49m\n\u001B[1;32m    854\u001B[0m \u001B[43m        \u001B[49m\u001B[43mis_implicit_VR\u001B[49m\u001B[43m,\u001B[49m\n\u001B[1;32m    855\u001B[0m \u001B[43m        \u001B[49m\u001B[43mis_little_endian\u001B[49m\u001B[43m,\u001B[49m\n\u001B[1;32m    856\u001B[0m \u001B[43m        \u001B[49m\u001B[43mstop_when\u001B[49m\u001B[38;5;241;43m=\u001B[39;49m\u001B[43mstop_when\u001B[49m\u001B[43m,\u001B[49m\n\u001B[1;32m    857\u001B[0m \u001B[43m        \u001B[49m\u001B[43mdefer_size\u001B[49m\u001B[38;5;241;43m=\u001B[39;49m\u001B[43mdefer_size\u001B[49m\u001B[43m,\u001B[49m\n\u001B[1;32m    858\u001B[0m \u001B[43m        \u001B[49m\u001B[43mspecific_tags\u001B[49m\u001B[38;5;241;43m=\u001B[39;49m\u001B[43mspecific_tags\u001B[49m\u001B[43m,\u001B[49m\n\u001B[1;32m    859\u001B[0m \u001B[43m    \u001B[49m\u001B[43m)\u001B[49m\n\u001B[1;32m    860\u001B[0m \u001B[38;5;28;01mexcept\u001B[39;00m \u001B[38;5;167;01mEOFError\u001B[39;00m:\n\u001B[1;32m    861\u001B[0m     \u001B[38;5;28;01mif\u001B[39;00m config\u001B[38;5;241m.\u001B[39msettings\u001B[38;5;241m.\u001B[39mreading_validation_mode \u001B[38;5;241m==\u001B[39m config\u001B[38;5;241m.\u001B[39mRAISE:\n",
      "File \u001B[0;32m~/miniconda3/lib/python3.9/site-packages/pydicom/filereader.py:427\u001B[0m, in \u001B[0;36mread_dataset\u001B[0;34m(fp, is_implicit_VR, is_little_endian, bytelength, stop_when, defer_size, parent_encoding, specific_tags, at_top_level)\u001B[0m\n\u001B[1;32m    425\u001B[0m \u001B[38;5;28;01mtry\u001B[39;00m:\n\u001B[1;32m    426\u001B[0m     \u001B[38;5;28;01mwhile\u001B[39;00m (bytelength \u001B[38;5;129;01mis\u001B[39;00m \u001B[38;5;28;01mNone\u001B[39;00m) \u001B[38;5;129;01mor\u001B[39;00m (fp\u001B[38;5;241m.\u001B[39mtell() \u001B[38;5;241m-\u001B[39m fp_start \u001B[38;5;241m<\u001B[39m bytelength):\n\u001B[0;32m--> 427\u001B[0m         raw_data_element \u001B[38;5;241m=\u001B[39m \u001B[38;5;28;43mnext\u001B[39;49m\u001B[43m(\u001B[49m\u001B[43mde_gen\u001B[49m\u001B[43m)\u001B[49m\n\u001B[1;32m    428\u001B[0m         \u001B[38;5;66;03m# Read data elements. Stop on some errors, but return what was read\u001B[39;00m\n\u001B[1;32m    429\u001B[0m         tag \u001B[38;5;241m=\u001B[39m raw_data_element\u001B[38;5;241m.\u001B[39mtag\n",
      "File \u001B[0;32m~/miniconda3/lib/python3.9/site-packages/pydicom/filereader.py:264\u001B[0m, in \u001B[0;36mdata_element_generator\u001B[0;34m(fp, is_implicit_VR, is_little_endian, stop_when, defer_size, encoding, specific_tags)\u001B[0m\n\u001B[1;32m    258\u001B[0m \u001B[38;5;28;01mif\u001B[39;00m debugging:\n\u001B[1;32m    259\u001B[0m     logger_debug(\n\u001B[1;32m    260\u001B[0m         \u001B[38;5;124mf\u001B[39m\u001B[38;5;124m\"\u001B[39m\u001B[38;5;132;01m{\u001B[39;00mfp_tell()\u001B[38;5;132;01m:\u001B[39;00m\u001B[38;5;124m08X\u001B[39m\u001B[38;5;132;01m}\u001B[39;00m\u001B[38;5;124m: Reading/parsing undefined length \u001B[39m\u001B[38;5;124m\"\u001B[39m\n\u001B[1;32m    261\u001B[0m         \u001B[38;5;124m\"\u001B[39m\u001B[38;5;124msequence\u001B[39m\u001B[38;5;124m\"\u001B[39m\n\u001B[1;32m    262\u001B[0m     )\n\u001B[0;32m--> 264\u001B[0m seq \u001B[38;5;241m=\u001B[39m \u001B[43mread_sequence\u001B[49m\u001B[43m(\u001B[49m\u001B[43mfp\u001B[49m\u001B[43m,\u001B[49m\u001B[43m \u001B[49m\u001B[43mis_implicit_VR\u001B[49m\u001B[43m,\u001B[49m\n\u001B[1;32m    265\u001B[0m \u001B[43m                    \u001B[49m\u001B[43mis_little_endian\u001B[49m\u001B[43m,\u001B[49m\u001B[43m \u001B[49m\u001B[43mlength\u001B[49m\u001B[43m,\u001B[49m\u001B[43m \u001B[49m\u001B[43mencoding\u001B[49m\u001B[43m)\u001B[49m\n\u001B[1;32m    266\u001B[0m \u001B[38;5;28;01mif\u001B[39;00m has_tag_set \u001B[38;5;129;01mand\u001B[39;00m tag \u001B[38;5;129;01mnot\u001B[39;00m \u001B[38;5;129;01min\u001B[39;00m tag_set:\n\u001B[1;32m    267\u001B[0m     \u001B[38;5;28;01mcontinue\u001B[39;00m\n",
      "File \u001B[0;32m~/miniconda3/lib/python3.9/site-packages/pydicom/filereader.py:483\u001B[0m, in \u001B[0;36mread_sequence\u001B[0;34m(fp, is_implicit_VR, is_little_endian, bytelength, encoding, offset)\u001B[0m\n\u001B[1;32m    481\u001B[0m \u001B[38;5;28;01mwhile\u001B[39;00m (\u001B[38;5;129;01mnot\u001B[39;00m bytelength) \u001B[38;5;129;01mor\u001B[39;00m (fp_tell() \u001B[38;5;241m-\u001B[39m fpStart \u001B[38;5;241m<\u001B[39m bytelength):\n\u001B[1;32m    482\u001B[0m     file_tell \u001B[38;5;241m=\u001B[39m fp\u001B[38;5;241m.\u001B[39mtell()\n\u001B[0;32m--> 483\u001B[0m     dataset \u001B[38;5;241m=\u001B[39m \u001B[43mread_sequence_item\u001B[49m\u001B[43m(\u001B[49m\n\u001B[1;32m    484\u001B[0m \u001B[43m        \u001B[49m\u001B[43mfp\u001B[49m\u001B[43m,\u001B[49m\u001B[43m \u001B[49m\u001B[43mis_implicit_VR\u001B[49m\u001B[43m,\u001B[49m\u001B[43m \u001B[49m\u001B[43mis_little_endian\u001B[49m\u001B[43m,\u001B[49m\u001B[43m \u001B[49m\u001B[43mencoding\u001B[49m\u001B[43m,\u001B[49m\u001B[43m \u001B[49m\u001B[43moffset\u001B[49m\n\u001B[1;32m    485\u001B[0m \u001B[43m    \u001B[49m\u001B[43m)\u001B[49m\n\u001B[1;32m    486\u001B[0m     \u001B[38;5;28;01mif\u001B[39;00m dataset \u001B[38;5;129;01mis\u001B[39;00m \u001B[38;5;28;01mNone\u001B[39;00m:  \u001B[38;5;66;03m# None is returned if hit Sequence Delimiter\u001B[39;00m\n\u001B[1;32m    487\u001B[0m         \u001B[38;5;28;01mbreak\u001B[39;00m\n",
      "File \u001B[0;32m~/miniconda3/lib/python3.9/site-packages/pydicom/filereader.py:544\u001B[0m, in \u001B[0;36mread_sequence_item\u001B[0;34m(fp, is_implicit_VR, is_little_endian, encoding, offset)\u001B[0m\n\u001B[1;32m    538\u001B[0m     logger\u001B[38;5;241m.\u001B[39mdebug(\n\u001B[1;32m    539\u001B[0m         \u001B[38;5;124mf\u001B[39m\u001B[38;5;124m\"\u001B[39m\u001B[38;5;132;01m{\u001B[39;00mfp\u001B[38;5;241m.\u001B[39mtell() \u001B[38;5;241m-\u001B[39m \u001B[38;5;241m4\u001B[39m \u001B[38;5;241m+\u001B[39m offset\u001B[38;5;132;01m:\u001B[39;00m\u001B[38;5;124m08x\u001B[39m\u001B[38;5;132;01m}\u001B[39;00m\u001B[38;5;124m: \u001B[39m\u001B[38;5;132;01m{\u001B[39;00mbytes2hex(bytes_read)\u001B[38;5;132;01m}\u001B[39;00m\u001B[38;5;124m  \u001B[39m\u001B[38;5;124m\"\u001B[39m\n\u001B[1;32m    540\u001B[0m         \u001B[38;5;124m\"\u001B[39m\u001B[38;5;124mFound Item tag (start of item)\u001B[39m\u001B[38;5;124m\"\u001B[39m\n\u001B[1;32m    541\u001B[0m     )\n\u001B[1;32m    543\u001B[0m \u001B[38;5;28;01mif\u001B[39;00m length \u001B[38;5;241m==\u001B[39m \u001B[38;5;241m0xFFFFFFFF\u001B[39m:\n\u001B[0;32m--> 544\u001B[0m     ds \u001B[38;5;241m=\u001B[39m \u001B[43mread_dataset\u001B[49m\u001B[43m(\u001B[49m\u001B[43mfp\u001B[49m\u001B[43m,\u001B[49m\u001B[43m \u001B[49m\u001B[43mis_implicit_VR\u001B[49m\u001B[43m,\u001B[49m\u001B[43m \u001B[49m\u001B[43mis_little_endian\u001B[49m\u001B[43m,\u001B[49m\n\u001B[1;32m    545\u001B[0m \u001B[43m                      \u001B[49m\u001B[43mbytelength\u001B[49m\u001B[38;5;241;43m=\u001B[39;49m\u001B[38;5;28;43;01mNone\u001B[39;49;00m\u001B[43m,\u001B[49m\u001B[43m \u001B[49m\u001B[43mparent_encoding\u001B[49m\u001B[38;5;241;43m=\u001B[39;49m\u001B[43mencoding\u001B[49m\u001B[43m,\u001B[49m\n\u001B[1;32m    546\u001B[0m \u001B[43m                      \u001B[49m\u001B[43mat_top_level\u001B[49m\u001B[38;5;241;43m=\u001B[39;49m\u001B[38;5;28;43;01mFalse\u001B[39;49;00m\u001B[43m)\u001B[49m\n\u001B[1;32m    547\u001B[0m     ds\u001B[38;5;241m.\u001B[39mis_undefined_length_sequence_item \u001B[38;5;241m=\u001B[39m \u001B[38;5;28;01mTrue\u001B[39;00m\n\u001B[1;32m    548\u001B[0m \u001B[38;5;28;01melse\u001B[39;00m:\n",
      "File \u001B[0;32m~/miniconda3/lib/python3.9/site-packages/pydicom/filereader.py:427\u001B[0m, in \u001B[0;36mread_dataset\u001B[0;34m(fp, is_implicit_VR, is_little_endian, bytelength, stop_when, defer_size, parent_encoding, specific_tags, at_top_level)\u001B[0m\n\u001B[1;32m    425\u001B[0m \u001B[38;5;28;01mtry\u001B[39;00m:\n\u001B[1;32m    426\u001B[0m     \u001B[38;5;28;01mwhile\u001B[39;00m (bytelength \u001B[38;5;129;01mis\u001B[39;00m \u001B[38;5;28;01mNone\u001B[39;00m) \u001B[38;5;129;01mor\u001B[39;00m (fp\u001B[38;5;241m.\u001B[39mtell() \u001B[38;5;241m-\u001B[39m fp_start \u001B[38;5;241m<\u001B[39m bytelength):\n\u001B[0;32m--> 427\u001B[0m         raw_data_element \u001B[38;5;241m=\u001B[39m \u001B[38;5;28;43mnext\u001B[39;49m\u001B[43m(\u001B[49m\u001B[43mde_gen\u001B[49m\u001B[43m)\u001B[49m\n\u001B[1;32m    428\u001B[0m         \u001B[38;5;66;03m# Read data elements. Stop on some errors, but return what was read\u001B[39;00m\n\u001B[1;32m    429\u001B[0m         tag \u001B[38;5;241m=\u001B[39m raw_data_element\u001B[38;5;241m.\u001B[39mtag\n",
      "File \u001B[0;32m~/miniconda3/lib/python3.9/site-packages/pydicom/filereader.py:125\u001B[0m, in \u001B[0;36mdata_element_generator\u001B[0;34m(fp, is_implicit_VR, is_little_endian, stop_when, defer_size, encoding, specific_tags)\u001B[0m\n\u001B[1;32m    123\u001B[0m debugging \u001B[38;5;241m=\u001B[39m config\u001B[38;5;241m.\u001B[39mdebugging\n\u001B[1;32m    124\u001B[0m element_struct_unpack \u001B[38;5;241m=\u001B[39m element_struct\u001B[38;5;241m.\u001B[39munpack\n\u001B[0;32m--> 125\u001B[0m defer_size \u001B[38;5;241m=\u001B[39m \u001B[43msize_in_bytes\u001B[49m\u001B[43m(\u001B[49m\u001B[43mdefer_size\u001B[49m\u001B[43m)\u001B[49m\n\u001B[1;32m    127\u001B[0m tag_set \u001B[38;5;241m=\u001B[39m {Tag(tag) \u001B[38;5;28;01mfor\u001B[39;00m tag \u001B[38;5;129;01min\u001B[39;00m specific_tags} \u001B[38;5;28;01mif\u001B[39;00m specific_tags \u001B[38;5;28;01melse\u001B[39;00m \u001B[38;5;28mset\u001B[39m()\n\u001B[1;32m    128\u001B[0m has_tag_set \u001B[38;5;241m=\u001B[39m \u001B[38;5;28mbool\u001B[39m(tag_set)\n",
      "File \u001B[0;32m~/miniconda3/lib/python3.9/site-packages/pydicom/misc.py:15\u001B[0m, in \u001B[0;36msize_in_bytes\u001B[0;34m(expr)\u001B[0m\n\u001B[1;32m      6\u001B[0m \u001B[38;5;28;01mfrom\u001B[39;00m \u001B[38;5;21;01mtyping\u001B[39;00m \u001B[38;5;28;01mimport\u001B[39;00m Optional, Union\n\u001B[1;32m      9\u001B[0m _size_factors \u001B[38;5;241m=\u001B[39m {\n\u001B[1;32m     10\u001B[0m     \u001B[38;5;124m\"\u001B[39m\u001B[38;5;124mkb\u001B[39m\u001B[38;5;124m\"\u001B[39m: \u001B[38;5;241m1000\u001B[39m, \u001B[38;5;124m\"\u001B[39m\u001B[38;5;124mmb\u001B[39m\u001B[38;5;124m\"\u001B[39m: \u001B[38;5;241m1000\u001B[39m \u001B[38;5;241m*\u001B[39m \u001B[38;5;241m1000\u001B[39m, \u001B[38;5;124m\"\u001B[39m\u001B[38;5;124mgb\u001B[39m\u001B[38;5;124m\"\u001B[39m: \u001B[38;5;241m1000\u001B[39m \u001B[38;5;241m*\u001B[39m \u001B[38;5;241m1000\u001B[39m \u001B[38;5;241m*\u001B[39m \u001B[38;5;241m1000\u001B[39m,\n\u001B[1;32m     11\u001B[0m     \u001B[38;5;124m\"\u001B[39m\u001B[38;5;124mkib\u001B[39m\u001B[38;5;124m\"\u001B[39m: \u001B[38;5;241m1024\u001B[39m, \u001B[38;5;124m\"\u001B[39m\u001B[38;5;124mmib\u001B[39m\u001B[38;5;124m\"\u001B[39m: \u001B[38;5;241m1024\u001B[39m \u001B[38;5;241m*\u001B[39m \u001B[38;5;241m1024\u001B[39m, \u001B[38;5;124m\"\u001B[39m\u001B[38;5;124mgib\u001B[39m\u001B[38;5;124m\"\u001B[39m: \u001B[38;5;241m1024\u001B[39m \u001B[38;5;241m*\u001B[39m \u001B[38;5;241m1024\u001B[39m \u001B[38;5;241m*\u001B[39m \u001B[38;5;241m1024\u001B[39m,\n\u001B[1;32m     12\u001B[0m }\n\u001B[0;32m---> 15\u001B[0m \u001B[38;5;28;01mdef\u001B[39;00m \u001B[38;5;21msize_in_bytes\u001B[39m(\n\u001B[1;32m     16\u001B[0m     expr: Optional[Union[\u001B[38;5;28mint\u001B[39m, \u001B[38;5;28mfloat\u001B[39m, \u001B[38;5;28mstr\u001B[39m]]\n\u001B[1;32m     17\u001B[0m ) \u001B[38;5;241m-\u001B[39m\u001B[38;5;241m>\u001B[39m Union[\u001B[38;5;28;01mNone\u001B[39;00m, \u001B[38;5;28mfloat\u001B[39m, \u001B[38;5;28mint\u001B[39m]:\n\u001B[1;32m     18\u001B[0m     \u001B[38;5;124;03m\"\"\"Return the number of bytes for `defer_size` argument in\u001B[39;00m\n\u001B[1;32m     19\u001B[0m \u001B[38;5;124;03m    :func:`~pydicom.filereader.dcmread`.\u001B[39;00m\n\u001B[1;32m     20\u001B[0m \u001B[38;5;124;03m    \"\"\"\u001B[39;00m\n\u001B[1;32m     21\u001B[0m     \u001B[38;5;28;01mif\u001B[39;00m expr \u001B[38;5;129;01mis\u001B[39;00m \u001B[38;5;28;01mNone\u001B[39;00m \u001B[38;5;129;01mor\u001B[39;00m expr \u001B[38;5;241m==\u001B[39m \u001B[38;5;28mfloat\u001B[39m(\u001B[38;5;124m'\u001B[39m\u001B[38;5;124minf\u001B[39m\u001B[38;5;124m'\u001B[39m):\n",
      "\u001B[0;31mKeyboardInterrupt\u001B[0m: "
     ]
    }
   ],
   "source": [
    "opfolder = \"/mnt/HDD1/shounak/Biopsy_output\"\n",
    "filecount = []  #empty array which will store the file names\n",
    "modalitycount = []\n",
    "for root, dirs, files in os.walk(opfolder):\n",
    "    for file in files: \n",
    "#         if \".file\" in file:# exclude non-dicoms, good for messy folders\n",
    "            filecount.append(os.path.join(root, file))\n",
    "            for dicom_loc in filecount:\n",
    "    # read the file\n",
    "                ds1 = dicom.read_file(dicom_loc, force=True)\n",
    "    \n",
    "    # get patient, study, and series information\n",
    "                modalitycount = ds1.get(\"Modality\",\"NA\")\n",
    "#                 modalitycount.append(os.path.join(root, file))\n",
    "print('%s files found.' % len(filecount))\n",
    "print('modality count=', len(modalitycount))"
   ]
  },
  {
   "cell_type": "code",
   "execution_count": null,
   "id": "824cb9be",
   "metadata": {
    "pycharm": {
     "name": "#%%\n"
    }
   },
   "outputs": [],
   "source": [
    "patientidlist = []\n",
    "for root, dirs, files in os.walk(patientidlist):\n",
    "    for file in files: \n",
    "#         if \".file\" in file:# exclude non-dicoms, good for messy folders\n",
    "            filecount.append(os.path.join(root, file))\n",
    "\n",
    "print('%s files found.' % len(patientidlist))\n",
    "\n",
    "for dicom_loc in filecount:\n",
    "    # read the file\n",
    "    ds1 = dicom.read_file(dicom_loc, force=True)\n",
    "    \n",
    "    # get patient, study, and series information\n",
    "    mod = ds1.get(\"Modality\",\"NA\")\n",
    "#     studyInstanceUID = ds1.get(\"StudyInstanceUID\",\"NA\")\n",
    "#     seriesInstanceUID = ds1.get(\"SeriesInstanceUID\",\"NA\")\n",
    "#     instanceNumber = str(ds1.get(\"InstanceNumber\",\"0\"))\n",
    "    \n",
    "    patientidlist.append(os.path.join(root, files))"
   ]
  }
 ],
 "metadata": {
  "kernelspec": {
   "display_name": "Python 3 (ipykernel)",
   "language": "python",
   "name": "python3"
  },
  "language_info": {
   "codemirror_mode": {
    "name": "ipython",
    "version": 3
   },
   "file_extension": ".py",
   "mimetype": "text/x-python",
   "name": "python",
   "nbconvert_exporter": "python",
   "pygments_lexer": "ipython3",
   "version": "3.9.12"
  }
 },
 "nbformat": 4,
 "nbformat_minor": 5
}